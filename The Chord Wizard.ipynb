{
  "cells": [
    {
      "cell_type": "code",
      "execution_count": 159,
      "metadata": {
        "id": "gZkuuylhLYMQ"
      },
      "outputs": [],
      "source": [
        "import openai\n",
        "import re\n",
        "from midiutil.MidiFile import MIDIFile\n",
        "from pychord import Chord\n",
        "import random\n",
        "import pandas as pd"
      ]
    },
    {
      "cell_type": "code",
      "execution_count": 160,
      "metadata": {
        "id": "O0rd4eXwLj65"
      },
      "outputs": [],
      "source": [
        "#defining note names for function\n",
        "NOTES_FLAT = ['C', 'Db', 'D', 'Eb', 'E', 'F', 'Gb', 'G', 'Ab', 'A', 'Bb', 'B']\n",
        "NOTES_SHARP = ['C', 'C#', 'D', 'D#', 'E', 'F', 'F#', 'G', 'G#', 'A', 'A#', 'B']\n",
        "\n",
        "def NoteToMidi(KeyOctave):\n",
        "    # KeyOctave is formatted like 'C#3'\n",
        "    key = KeyOctave[:-1]  # eg C, Db\n",
        "    octave = KeyOctave[-1]   # eg 3, 4\n",
        "    answer = -1\n",
        "\n",
        "    try:\n",
        "        if 'b' in key:\n",
        "            pos = NOTES_FLAT.index(key)\n",
        "        else:\n",
        "            pos = NOTES_SHARP.index(key)\n",
        "    except:\n",
        "        print('The key is not valid', key)\n",
        "        return answer\n",
        "\n",
        "    answer += pos + 12 * (int(octave) + 1) + 1\n",
        "    return answer"
      ]
    },
    {
      "cell_type": "code",
      "execution_count": 161,
      "metadata": {
        "colab": {
          "base_uri": "https://localhost:8080/",
          "height": 53
        },
        "id": "JP1p4OA2LmAy",
        "outputId": "535b9048-541e-4008-987d-ec82256c54cd"
      },
      "outputs": [
        {
          "data": {
            "application/vnd.google.colaboratory.intrinsic+json": {
              "type": "string"
            },
            "text/plain": [
              "'Generate a I–iii–vii–IV chord progression in Bb Minor. Format the response as a python list where each element is 1 chord of the progression.  Do not use roman numerals.'"
            ]
          },
          "execution_count": 161,
          "metadata": {},
          "output_type": "execute_result"
        }
      ],
      "source": [
        "openai.api_key = \"REMOVED FOR PRIVACY\"\n",
        "key = 'Bb Minor'\n",
        "progressions = pd.read_csv('progressions.csv', header=None)\n",
        "progressions = [list(row) for row in progressions.values]\n",
        "progression = random.choice(progressions)[0]\n",
        "format_directions = \"Format the response as a python list where each element is 1 chord of the progression.  Do not use roman numerals.\"\n",
        "style_prompt = \"Generate a {} chord progression in {}.\".format(progression, key)\n",
        "prompt = (f\"{style_prompt + ' ' + format_directions}\")\n",
        "prompt.strip()"
      ]
    },
    {
      "cell_type": "code",
      "execution_count": 162,
      "metadata": {
        "colab": {
          "base_uri": "https://localhost:8080/"
        },
        "id": "kSnJOWneL7dj",
        "outputId": "9d4ca410-20bb-451b-a845-8c14b6518825"
      },
      "outputs": [
        {
          "name": "stdout",
          "output_type": "stream",
          "text": [
            "Chords: ['BbMinor', 'DbMajor', 'EbMajor', 'AbMajor']\n",
            "Notes: [['Bb3', 'Db4', 'F4'], ['Db3', 'F3', 'Ab3'], ['Eb3', 'G3', 'Bb3'], ['Ab3', 'C4', 'Eb4']]\n",
            "MidiData: [(58, 61, 65), (49, 53, 56), (51, 55, 58), (56, 60, 63)]\n"
          ]
        }
      ],
      "source": [
        "completions = openai.Completion.create(\n",
        "    engine=\"text-davinci-003\",\n",
        "    prompt=prompt,\n",
        "    max_tokens = 1024,\n",
        "    n=1,\n",
        "    stop=None,\n",
        "    temperature=1\n",
        ")\n",
        "\n",
        "message = completions.choices[0].text\n",
        "message = message.replace('\\n','')\n",
        "message\n",
        "scrape_chords = re.findall(r\"\\w+\\s?\\w+\",message)\n",
        "scrape_chords = [elem.replace(\" \",\"\") for elem in scrape_chords]\n",
        "print('Chords: {}'.format(scrape_chords))\n",
        "\n",
        "chords_notes = []\n",
        "for chord in scrape_chords:\n",
        "    chords_notes.append(Chord(chord.replace('Major', '').replace('Minor','m').replace('major','').replace('minor','m').replace('maj','').replace('min','m').replace('Diminished','dim')).components_with_pitch(root_pitch=3))\n",
        "\n",
        "print('Notes: {}'.format(chords_notes))\n",
        "\n",
        "chords_notes_midi = [[NoteToMidi(note) for note in sublist] for sublist in chords_notes]\n",
        "chords_notes_midi = [tuple(sublist) for sublist in chords_notes_midi]\n",
        "\n",
        "print('MidiData: {}'.format(chords_notes_midi))"
      ]
    },
    {
      "cell_type": "code",
      "execution_count": 163,
      "metadata": {
        "colab": {
          "base_uri": "https://localhost:8080/"
        },
        "id": "SFji2uJcL9XQ",
        "outputId": "630e6782-68b6-4de2-ecfd-7e37eff82772"
      },
      "outputs": [
        {
          "name": "stdout",
          "output_type": "stream",
          "text": [
            "midi written to disk\n"
          ]
        }
      ],
      "source": [
        "mf = MIDIFile(1)\n",
        "track = 0\n",
        "time = 0\n",
        "mf.addTrackName(track,time,\"Chord Progression\")\n",
        "mf.addTempo(track,time,120)\n",
        "channel = 0\n",
        "volume = 100\n",
        "\n",
        "for chord in chords_notes_midi:\n",
        "    for note in chord:\n",
        "        mf.addNote(track,channel,note,time,2,volume)\n",
        "    time += 2\n",
        "\n",
        "with open('chords.mid','wb') as output_file:\n",
        "    mf.writeFile(output_file)\n",
        "\n",
        "print('midi written to disk')"
      ]
    },
    {
      "cell_type": "code",
      "execution_count": null,
      "metadata": {
        "id": "tQ3Ai03pMGiU"
      },
      "outputs": [],
      "source": []
    }
  ],
  "metadata": {
    "colab": {
      "provenance": []
    },
    "kernelspec": {
      "display_name": "Python 3",
      "name": "python3"
    },
    "language_info": {
      "name": "python"
    }
  },
  "nbformat": 4,
  "nbformat_minor": 0
}
